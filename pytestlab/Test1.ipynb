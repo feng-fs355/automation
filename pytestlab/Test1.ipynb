{
 "cells": [
  {
   "cell_type": "markdown",
   "metadata": {
    "colab_type": "text",
    "id": "view-in-github"
   },
   "source": [
    "<a href=\"https://colab.research.google.com/github/feng-fs355/automation/blob/main/pytestlab/Test1.ipynb\" target=\"_parent\"><img src=\"https://colab.research.google.com/assets/colab-badge.svg\" alt=\"Open In Colab\"/></a>"
   ]
  },
  {
   "cell_type": "code",
   "execution_count": 2,
   "metadata": {
    "colab": {
     "base_uri": "https://localhost:8080/"
    },
    "id": "okF6qhsqc_1F",
    "outputId": "5f906589-5d83-4951-9553-e171e3f8cc84"
   },
   "outputs": [
    {
     "data": {
      "text/plain": [
       "0"
      ]
     },
     "execution_count": 2,
     "metadata": {},
     "output_type": "execute_result"
    }
   ],
   "source": [
    "import os\n",
    "os.system(\"uname -a\")\n",
    "print(\"test script via ipynb\")\n"
   ]
  },
  {
   "cell_type": "code",
   "execution_count": 6,
   "metadata": {
    "id": "z55YrNz0dG8V"
   },
   "outputs": [
    {
     "name": "stdout",
     "output_type": "stream",
     "text": [
      "W\n",
      "W\n",
      "Wa\n",
      "aW\n",
      "Was\n",
      "saW\n",
      "Wasi\n",
      "isaW\n",
      "Wasit\n",
      "tisaW\n",
      "Wasita\n",
      "atisaW\n",
      "Wasitac\n",
      "catisaW\n",
      "Wasitaca\n",
      "acatisaW\n",
      "Wasitacar\n",
      "racatisaW\n",
      "Wasitacaro\n",
      "oracatisaW\n",
      "Wasitacaror\n",
      "roracatisaW\n",
      "Wasitacarorc\n",
      "croracatisaW\n",
      "Wasitacarorca\n",
      "acroracatisaW\n",
      "Wasitacarorcat\n",
      "tacroracatisaW\n",
      "WasitacarorcatI\n",
      "ItacroracatisaW\n",
      "WasitacarorcatIs\n",
      "sItacroracatisaW\n",
      "WasitacarorcatIsa\n",
      "asItacroracatisaW\n",
      "WasitacarorcatIsaw\n",
      "wasItacroracatisaW\n",
      "False\n"
     ]
    }
   ],
   "source": [
    "\n",
    "def mirrored_string(my_string):\n",
    "\n",
    "    forwards = \"\"\n",
    "    backwards = \"\"\n",
    "\n",
    "    for character in my_string:\n",
    "\n",
    "        # The if-statement checks if the character is not a space.\n",
    "        if character.isalpha():\n",
    "\n",
    "\n",
    "            forwards += character\n",
    "            print(forwards)\n",
    "            backwards = character + backwards\n",
    "            print(backwards)\n",
    "    if forwards.lower() == backwards.lower():\n",
    "        return True\n",
    "    return False\n",
    " \n",
    "#print(mirrored_string(\"12 Noon\")) # Should be True\n",
    "print(mirrored_string(\"Was it a car or cat I saw\")) # Should be False\n",
    "#print(mirrored_string(\"'eve, Madam Eve\")) # Should be True"
   ]
  },
  {
   "cell_type": "code",
   "execution_count": 4,
   "metadata": {},
   "outputs": [
    {
     "name": "stdout",
     "output_type": "stream",
     "text": [
      "12 ounces equals 0.75 pounds\n",
      "50.5 ounces equals 3.16 pounds\n",
      "16 ounces equals 1.00 pounds\n"
     ]
    }
   ],
   "source": [
    "# This function converts measurement equivalents. Output is formatted \n",
    "# as, \"x ounces equals y pounds\", with y limited to 2 decimal places. \n",
    "def convert_weight(ounces):\n",
    "\n",
    "    # Conversion formula: 1 pound = 16 ounces\n",
    "    pounds = ounces/16 \n",
    "    \n",
    "    # The result is composed using the .format() method. There are two\n",
    "    # placeholders in the string: the first is for the \"ounces\" \n",
    "    # variable and the second is for the \"pounds\" variable. The second\n",
    "    # placeholder formats the float result of the conversion \n",
    "    # calculation to be limited to 2 decimal places.\n",
    "    result = \"{} ounces equals {:.2f} pounds\".format(ounces,pounds)\n",
    "    return result\n",
    "\n",
    "\n",
    "print(convert_weight(12)) # Should be: 12 ounces equals 0.75 pounds\n",
    "print(convert_weight(50.5)) # Should be: 50.5 ounces equals 3.16 pounds\n",
    "print(convert_weight(16)) # Should be: 16 ounces equals 1.00 pounds"
   ]
  },
  {
   "cell_type": "code",
   "execution_count": 7,
   "metadata": {},
   "outputs": [
    {
     "name": "stdout",
     "output_type": "stream",
     "text": [
      "Iva1985\n",
      "Rod2000\n",
      "Den1991\n"
     ]
    }
   ],
   "source": [
    "# This function generates a username using the first 3 letters of a\n",
    "# user’s last name plus their birth year. \n",
    "def username(last_name, birth_year):\n",
    "    \n",
    "    # The .format() method will use the first 3 letters at index \n",
    "    # positions [0,1,2] of the \"last_name\" variable for the first\n",
    "    # {} placeholder. The second {} placeholder concatenates the user’s\n",
    "    #  \"birth_year\" to that string to form a new string username.\n",
    "    return(\"{}{}\".format(last_name[0:3],birth_year))\n",
    "\n",
    "\n",
    "print(username(\"Ivanov\", \"1985\")) \n",
    "# Should display \"Iva1985\" \n",
    "print(username(\"Rodríguez\", \"2000\")) \n",
    "# Should display \"Rod2000\" \n",
    "print(username(\"Deng\", \"1991\")) \n",
    "# Should display \"Den1991\""
   ]
  },
  {
   "cell_type": "code",
   "execution_count": 10,
   "metadata": {},
   "outputs": [
    {
     "name": "stdout",
     "output_type": "stream",
     "text": [
      "4\n",
      "Last year’s annual report will be released in March \n",
      "2023\n",
      "Last year’s annual report will be released in March 2025\n"
     ]
    }
   ],
   "source": [
    "def replace_date(schedule, old_date, new_date):\n",
    "\n",
    "    # Check if the given \"old_date\" appears at the end of the given \n",
    "    # string variable \"schedule\". \n",
    "\n",
    "    if schedule.endswith(old_date):\n",
    "\n",
    "\n",
    "        p = len(old_date)\n",
    "\n",
    "        print(p)\n",
    "\n",
    "        new_schedule = schedule[:-p] + schedule[-p:].replace(old_date, new_date)\n",
    "        print(schedule[:-p])\n",
    "        print(schedule[-p:])\n",
    "        # Returns the schedule with the new date.\n",
    "        return new_schedule\n",
    "        \n",
    "    # If the schedule does not end with the old date, then return the\n",
    "    # original sentence without any modifications.\n",
    "    return schedule\n",
    " \n",
    " \n",
    "print(replace_date(\"Last year’s annual report will be released in March 2023\", \"2023\", \"2025\")) \n",
    "\n",
    "#print(replace_date(\"In April, the CEO will hold a conference\", \"April\", \"May\")) \n",
    "\n",
    "#print(replace_date(\"The convention is scheduled for October\", \"October\", \"June\")) \n"
   ]
  },
  {
   "cell_type": "code",
   "execution_count": 12,
   "metadata": {},
   "outputs": [
    {
     "data": {
      "text/plain": [
       "False"
      ]
     },
     "execution_count": 12,
     "metadata": {},
     "output_type": "execute_result"
    }
   ],
   "source": [
    "x = [\"Now\", \"we\", \"are\", \"cooking!\"]\n",
    "#\"are\" in x\n",
    "\"Today\" in x"
   ]
  },
  {
   "cell_type": "code",
   "execution_count": 13,
   "metadata": {},
   "outputs": [
    {
     "data": {
      "text/plain": [
       "['Now', 'we']"
      ]
     },
     "execution_count": 13,
     "metadata": {},
     "output_type": "execute_result"
    }
   ],
   "source": [
    "x = [\"Now\", \"we\", \"are\", \"cooking!\"]\n",
    "x[:2]"
   ]
  },
  {
   "cell_type": "code",
   "execution_count": 23,
   "metadata": {},
   "outputs": [
    {
     "name": "stdout",
     "output_type": "stream",
     "text": [
      "lesson\n",
      "\n",
      "Now\n",
      "\n"
     ]
    }
   ],
   "source": [
    "def get_word(sentence, n):\n",
    "\t# Only proceed if n is positive \n",
    "\tif n > 0:\n",
    "\t\twords = sentence.split()\n",
    "\t\t# Only proceed if n is not more than the number of words \n",
    "\t\tif n <= len(words):\n",
    "\t\t\treturn(words[n-1])\n",
    "\treturn(\"\")\n",
    "\n",
    "print(get_word(\"This is a lesson about lists\", 4)) # Should print: lesson\n",
    "print(get_word(\"This is a lesson about lists\", -4)) # Nothing\n",
    "print(get_word(\"Now we are cooking!\", 1)) # Should print: Now\n",
    "print(get_word(\"Now we are cooking!\", 5)) # Nothing"
   ]
  },
  {
   "cell_type": "code",
   "execution_count": 24,
   "metadata": {},
   "outputs": [
    {
     "name": "stdout",
     "output_type": "stream",
     "text": [
      "['Pineapple', 'Banana', 'Apple', 'Melon', 'Kiwi']\n"
     ]
    }
   ],
   "source": [
    "fruits = [\"Pineapple\", \"Banana\", \"Apple\", \"Melon\"]\n",
    "fruits.append(\"Kiwi\")\n",
    "print(fruits)\n"
   ]
  },
  {
   "cell_type": "code",
   "execution_count": 26,
   "metadata": {},
   "outputs": [
    {
     "name": "stdout",
     "output_type": "stream",
     "text": [
      "(1, 23, 20)\n"
     ]
    },
    {
     "data": {
      "text/plain": [
       "tuple"
      ]
     },
     "execution_count": 26,
     "metadata": {},
     "output_type": "execute_result"
    }
   ],
   "source": [
    "def convert_seconds(seconds):\n",
    "  hours = seconds // 3600\n",
    "  minutes = (seconds - hours * 3600) // 60\n",
    "  remaining_seconds = seconds - hours * 3600 - minutes * 60\n",
    "  return hours, minutes, remaining_seconds\n",
    "result = convert_seconds(5000)\n",
    "print(result)\n",
    "type(result)"
   ]
  },
  {
   "cell_type": "code",
   "execution_count": 27,
   "metadata": {},
   "outputs": [
    {
     "name": "stdout",
     "output_type": "stream",
     "text": [
      "(1, 23, 20)\n"
     ]
    }
   ],
   "source": [
    "def convert_seconds(seconds):\n",
    "  hours = seconds // 3600\n",
    "  minutes = (seconds - hours * 3600) // 60\n",
    "  remaining_seconds = seconds - hours * 3600 - minutes * 60\n",
    "  return hours, minutes, remaining_seconds\n",
    "result = convert_seconds(5000)\n",
    "print(result)"
   ]
  },
  {
   "cell_type": "code",
   "execution_count": 28,
   "metadata": {},
   "outputs": [],
   "source": [
    "# Tuple example :"
   ]
  },
  {
   "cell_type": "code",
   "execution_count": 29,
   "metadata": {},
   "outputs": [
    {
     "name": "stdout",
     "output_type": "stream",
     "text": [
      "17.46\n",
      "0.48\n",
      "1.21\n"
     ]
    }
   ],
   "source": [
    "def file_size(file_info):\n",
    "\tName, type, size = file_info\n",
    "\treturn(\"{:.2f}\".format(size / 1024))\n",
    "\n",
    "print(file_size(('Class Assignment', 'docx', 17875))) # Should print 17.46\n",
    "print(file_size(('Notes', 'txt', 496))) # Should print 0.48\n",
    "print(file_size(('Program', 'py', 1239))) # Should print 1.21"
   ]
  },
  {
   "cell_type": "code",
   "execution_count": 30,
   "metadata": {},
   "outputs": [
    {
     "name": "stdout",
     "output_type": "stream",
     "text": [
      "Total characters: 22, Average length: 5.5\n"
     ]
    }
   ],
   "source": [
    "animals = [\"Lion\", \"Zebra\", \"Dolphin\", \"Monkey\"]\n",
    "chars = 0\n",
    "for x in animals:\n",
    "  chars += len(x)\n",
    "\n",
    "print(\"Total characters: {}, Average length: {}\".format(chars, chars/len(animals)))"
   ]
  },
  {
   "cell_type": "code",
   "execution_count": 32,
   "metadata": {},
   "outputs": [
    {
     "name": "stdout",
     "output_type": "stream",
     "text": [
      "1 - Ashley\n",
      "2 - Dylan\n",
      "3 - Reese\n"
     ]
    }
   ],
   "source": [
    "winners = [\"Ashley\", \"Dylan\", \"Reese\"]\n",
    "for index, person in enumerate(winners):\n",
    "  print(\"{} - {}\".format(index + 1, person))"
   ]
  },
  {
   "cell_type": "code",
   "execution_count": 37,
   "metadata": {},
   "outputs": [
    {
     "name": "stdout",
     "output_type": "stream",
     "text": [
      "1 - machine gun\n",
      "2 - Tank\n",
      "3 - rocket\n"
     ]
    }
   ],
   "source": [
    "weapon = ['machine gun','Tank','rocket']\n",
    "for index,fires in enumerate(weapon):\n",
    "    print(\"{} - {}\".format(index+1,fires))"
   ]
  },
  {
   "cell_type": "code",
   "execution_count": 38,
   "metadata": {},
   "outputs": [
    {
     "name": "stdout",
     "output_type": "stream",
     "text": [
      "['Alex Diego <alex@example.com>', 'Shay Brandt <shay@example.com>']\n"
     ]
    }
   ],
   "source": [
    "def full_emails(people):\n",
    "  result = []\n",
    "  for email, name in people:\n",
    "    result.append(\"{} <{}>\".format(name, email))\n",
    "  return result\n",
    "print(full_emails([(\"alex@example.com\", \"Alex Diego\"), (\"shay@example.com\", \"Shay Brandt\")]))"
   ]
  },
  {
   "cell_type": "code",
   "execution_count": 44,
   "metadata": {},
   "outputs": [
    {
     "name": "stdout",
     "output_type": "stream",
     "text": [
      "['M1A1 / tank', 'M2HB / machine gun', 'M151 / lite-truck', 'Rifle / M16']\n"
     ]
    }
   ],
   "source": [
    "def full_weapen(target):\n",
    "    result =[]\n",
    "    for type, name in target:\n",
    "        result.append(\"{} / {}\".format(name,type))\n",
    "    return result\n",
    "print(full_weapen([(\"tank\",\"M1A1\"),(\"machine gun\",\"M2HB\"),(\"lite-truck\",\"M151\"),(\"M16\",\"Rifle\")]))"
   ]
  },
  {
   "cell_type": "code",
   "execution_count": 58,
   "metadata": {},
   "outputs": [
    {
     "name": "stdout",
     "output_type": "stream",
     "text": [
      "['a', 'c', 'e', 'g']\n"
     ]
    }
   ],
   "source": [
    "def skip_elements(elements):\n",
    "    target = []\n",
    "    numbers = 0\n",
    "    for index, name in enumerate(elements):\n",
    "        index = int(index)\n",
    "        index = index + 1\n",
    "        #print(index)\n",
    "        if index % 2 != 0:\n",
    "            numbers = index\n",
    "            target.append(name)\n",
    "    return target\n",
    "\n",
    "print(skip_elements([\"a\", \"b\", \"c\", \"d\", \"e\", \"f\", \"g\"])) # Should be ['a', 'c', 'e', 'g']"
   ]
  },
  {
   "cell_type": "code",
   "execution_count": 61,
   "metadata": {},
   "outputs": [
    {
     "name": "stdout",
     "output_type": "stream",
     "text": [
      "[10, 20, 30, 40, 50, 60, 70, 80, 90, 100, 110]\n"
     ]
    }
   ],
   "source": [
    "multiples = [x*10 for x in range(1,12)]\n",
    "print(multiples)\n"
   ]
  },
  {
   "cell_type": "code",
   "execution_count": 65,
   "metadata": {},
   "outputs": [
    {
     "name": "stdout",
     "output_type": "stream",
     "text": [
      "[10, 20, 30, 40, 50, 60, 70, 80, 90, 100]\n"
     ]
    }
   ],
   "source": [
    "x1 =[]\n",
    "for x in range(1,11):\n",
    "    x1.append(x*10)\n",
    "print(x1)"
   ]
  },
  {
   "cell_type": "code",
   "execution_count": 66,
   "metadata": {},
   "outputs": [
    {
     "name": "stdout",
     "output_type": "stream",
     "text": [
      "[6, 4, 4, 2, 4, 1]\n"
     ]
    }
   ],
   "source": [
    "languages = [\"Python\", \"Perl\", \"Ruby\", \"Go\", \"Java\", \"C\"]\n",
    "lengths = [len(language) for language in languages]\n",
    "print(lengths)"
   ]
  },
  {
   "cell_type": "code",
   "execution_count": 74,
   "metadata": {},
   "outputs": [
    {
     "name": "stdout",
     "output_type": "stream",
     "text": [
      "{'M151': 1, 'M88A3': 1, 'M1A1': 2, 'M1A2': 2, 'M48H': 1, 'M109A6': 1, 'M113': 1}\n"
     ]
    }
   ],
   "source": [
    "T1 = [\"M151\", \"M88A3\", \"M1A1\", \"M1A2\", \"M48H\", \"M109A6\",\"M1A1\",\"M1A2\",\"M113\"]\n",
    "weapen = {}\n",
    "for item in T1:\n",
    "    if item in weapen:\n",
    "        weapen[item] += 1\n",
    "    else:\n",
    "        weapen[item] = 1\n",
    "print(weapen)\n",
    "#for item, count in weapen.items():\n",
    "#    if count > 1:\n",
    "#        print(item)"
   ]
  },
  {
   "cell_type": "code",
   "execution_count": 75,
   "metadata": {},
   "outputs": [
    {
     "name": "stdout",
     "output_type": "stream",
     "text": [
      "[0, 3, 6, 9, 12, 15, 18, 21, 24, 27, 30, 33, 36, 39, 42, 45, 48, 51, 54, 57, 60, 63, 66, 69, 72, 75, 78, 81, 84, 87, 90, 93, 96, 99]\n"
     ]
    }
   ],
   "source": [
    "z = [x for x in range(0,101) if x % 3 == 0]\n",
    "print(z)"
   ]
  },
  {
   "cell_type": "code",
   "execution_count": 76,
   "metadata": {},
   "outputs": [
    {
     "name": "stdout",
     "output_type": "stream",
     "text": [
      "[0, 3, 6, 9, 12, 15, 18, 21, 24, 27, 30, 33, 36, 39, 42, 45, 48, 51, 54, 57, 60, 63, 66, 69, 72, 75, 78, 81, 84, 87, 90, 93, 96, 99]\n"
     ]
    }
   ],
   "source": [
    "z=[]\n",
    "for x in range(0,101):\n",
    "    if x % 3 == 0:\n",
    "        z.append(x)\n",
    "print(z)"
   ]
  },
  {
   "cell_type": "code",
   "execution_count": null,
   "metadata": {},
   "outputs": [],
   "source": []
  },
  {
   "cell_type": "code",
   "execution_count": 77,
   "metadata": {},
   "outputs": [
    {
     "name": "stdout",
     "output_type": "stream",
     "text": [
      "{'M151': 1, 'M88A3': 1, 'M1A1': 2, 'M1A2': 2, 'M48H': 1, 'M109A6': 1, 'M113': 1}\n"
     ]
    }
   ],
   "source": [
    "T1 = [\"M151\", \"M88A3\", \"M1A1\", \"M1A2\", \"M48H\", \"M109A6\",\"M1A1\",\"M1A2\",\"M113\"]\n",
    "weapen = {}\n",
    "for item in T1:\n",
    "    if item in weapen:\n",
    "        weapen[item] += 1\n",
    "    else:\n",
    "        weapen[item] = 1\n",
    "print(weapen)\n",
    "#for item, count in weapen.items():\n",
    "#    if count > 1:\n",
    "#        print(item)"
   ]
  },
  {
   "cell_type": "code",
   "execution_count": 83,
   "metadata": {},
   "outputs": [
    {
     "name": "stdout",
     "output_type": "stream",
     "text": [
      "List comprehension result:\n",
      "[2, 4, 6, 8, 10, 12, 14, 16, 18, 20]\n",
      "Long form code result:\n",
      "[2, 4, 6, 8, 10, 12, 14, 16, 18, 20]\n"
     ]
    }
   ],
   "source": [
    "### Simple List Comprehension\n",
    "print(\"List comprehension result:\")\n",
    "\n",
    "# The following list comprehension compacts several lines \n",
    "# of code into one line:\n",
    "print([x*2 for x in range(1,11)])\n",
    "\n",
    "### Long form for loop\n",
    "print(\"Long form code result:\")\n",
    "\n",
    "# The list comprehension above accomplishes the same result as\n",
    "# the long form version of the code shown below:\n",
    "my_list = []\n",
    "for x in range(1,11):\n",
    "    my_list.append(x*2)\n",
    "print(my_list)\n",
    "\n",
    "# Click Run to compare the two results."
   ]
  },
  {
   "cell_type": "code",
   "execution_count": 84,
   "metadata": {},
   "outputs": [
    {
     "name": "stdout",
     "output_type": "stream",
     "text": [
      "List comprehension result:\n",
      "[10, 20, 30, 40, 50, 60, 70, 80, 90, 100]\n",
      "Long form code result:\n",
      "[10, 20, 30, 40, 50, 60, 70, 80, 90, 100]\n"
     ]
    }
   ],
   "source": [
    "print(\"List comprehension result:\")\n",
    "print([ x for x in range(1,101) if x % 10 == 0 ])\n",
    "\n",
    "\n",
    "# The list comprehension above accomplishes the same result as# the long form version of the code:\n",
    "print(\"Long form code result:\")\n",
    "my_list = []\n",
    "for x in range(1,101):\n",
    "    if x % 10 == 0:\n",
    "        my_list.append(x)\n",
    "print(my_list)\n",
    "\n",
    "\n",
    "# Click Run to observe the two results."
   ]
  },
  {
   "cell_type": "code",
   "execution_count": 95,
   "metadata": {},
   "outputs": [
    {
     "name": "stdout",
     "output_type": "stream",
     "text": [
      "[4, 9]\n",
      "[1, 4, 9, 16, 25]\n",
      "[0, 1, 4, 9, 16, 25, 36, 49, 64, 81, 100]\n"
     ]
    }
   ],
   "source": [
    "def squares(start, end):\n",
    "    x1 = [x**2 for x in range(start, end+1)]\n",
    "    return x1\n",
    "print(squares(2, 3))\n",
    "print(squares(1, 5)) \n",
    "print(squares(0, 10))"
   ]
  },
  {
   "cell_type": "code",
   "execution_count": 94,
   "metadata": {},
   "outputs": [
    {
     "name": "stdout",
     "output_type": "stream",
     "text": [
      "List comprehension result:\n",
      "[10, 20, 30, 40, 50, 60, 70, 80, 90, 100]\n",
      "Long form code result:\n",
      "[10, 20, 30, 40, 50, 60, 70, 80, 90, 100]\n"
     ]
    }
   ],
   "source": [
    "print(\"List comprehension result:\")\n",
    "print([ x for x in range(1,101) if x % 10 == 0 ])\n",
    "\n",
    "\n",
    "# The list comprehension above accomplishes the same result as# the long form version of the code:\n",
    "print(\"Long form code result:\")\n",
    "my_list = []\n",
    "for x in range(1,101):\n",
    "    if x % 10 == 0:\n",
    "        my_list.append(x)\n",
    "print(my_list)\n",
    "\n",
    "\n",
    "# Click Run to observe the two results."
   ]
  },
  {
   "cell_type": "code",
   "execution_count": 125,
   "metadata": {},
   "outputs": [
    {
     "name": "stdout",
     "output_type": "stream",
     "text": [
      "420\n",
      "[1, 4, 14, 19, 25, 32, 120, 220, 321, 420]\n",
      "[1000, 4, 14, 19, 25, 32, 120, 220, 321, 420]\n",
      "[1000, 4, 14, 2000, 19, 25, 32, 120, 220, 321, 420]\n",
      "[1000, 4, 14, 19, 25, 32, 120, 220, 321, 420]\n",
      "[1000, 4, 14, 25, 32, 120, 220, 321, 420]\n",
      "[4, 14, 25, 32, 120, 220, 321, 420, 1000]\n",
      "[1000, 420, 321, 220, 120, 32, 25, 14, 4]\n",
      "['AA', 'BB', 'CC', 1000, 420, 321, 220, 120, 32, 25, 14, 4]\n"
     ]
    }
   ],
   "source": [
    "array=[1,3,10,5,6,7,88,100,101,99]\n",
    "y = 0\n",
    "result =[]\n",
    "for x in array:\n",
    "    y+=x\n",
    "    result.append(y)\n",
    "print(y)\n",
    "print(result)\n",
    "result[0] = 1000\n",
    "print(result)\n",
    "result.insert(3, 2000)\n",
    "print(result)\n",
    "result.pop(3)\n",
    "print(result)\n",
    "result.pop(3)\n",
    "print(result)\n",
    "result.sort()\n",
    "print(result)\n",
    "result.reverse()\n",
    "print(result)\n",
    "xx = [\"AA\",\"BB\",\"CC\"]\n",
    "xx.extend(result)\n",
    "print(xx)\n"
   ]
  },
  {
   "cell_type": "code",
   "execution_count": 127,
   "metadata": {},
   "outputs": [
    {
     "name": "stdout",
     "output_type": "stream",
     "text": [
      "[1, 4, 9, 16, 25]\n"
     ]
    }
   ],
   "source": [
    "# Define a function to square a number\n",
    "def square(x):\n",
    "    return x * x\n",
    "\n",
    "# Define a list of numbers\n",
    "numbers = [1, 2, 3, 4, 5]\n",
    "\n",
    "# Use map() to apply the square function to each element of the list\n",
    "squared_numbers = map(square, numbers)\n",
    "\n",
    "# Convert the map object to a list\n",
    "squared_numbers_list = list(squared_numbers)\n",
    "\n",
    "# Print the squared numbers\n",
    "print(squared_numbers_list)\n"
   ]
  },
  {
   "cell_type": "code",
   "execution_count": 128,
   "metadata": {},
   "outputs": [
    {
     "name": "stdout",
     "output_type": "stream",
     "text": [
      "[(1, 'a'), (2, 'b'), (3, 'c')]\n"
     ]
    }
   ],
   "source": [
    "# Define two lists\n",
    "numbers = [1, 2, 3]\n",
    "letters = ['a', 'b', 'c']\n",
    "\n",
    "# Use zip() to combine the lists into tuples\n",
    "combined = zip(numbers, letters)\n",
    "\n",
    "# Convert the zip object to a list of tuples\n",
    "combined_list = list(combined)\n",
    "\n",
    "# Print the combined list\n",
    "print(combined_list)\n"
   ]
  },
  {
   "cell_type": "code",
   "execution_count": 130,
   "metadata": {},
   "outputs": [
    {
     "name": "stdout",
     "output_type": "stream",
     "text": [
      "(1, 2, 3, 4)\n",
      "(1, 2, 3, 4)\n"
     ]
    }
   ],
   "source": [
    "# Convert a list to a tuple\n",
    "my_list = [1, 2, 3, 4]\n",
    "my_tuple = tuple(my_list)\n",
    "\n",
    "print(my_tuple)  # Outputs: (1, 2, 3, 4)\n",
    "\n",
    "# Remember that although parentheses are often used to define a tuple, \n",
    "# they're not always necessary. The following syntax is also valid:\n",
    "\n",
    "my_tuple = 1, 2, 3, 4\n",
    "print(my_tuple)  # Outputs: (1, 2, 3, 4)"
   ]
  },
  {
   "cell_type": "code",
   "execution_count": 134,
   "metadata": {},
   "outputs": [
    {
     "name": "stdout",
     "output_type": "stream",
     "text": [
      "(1, 2, ['x-51', 'M119A6', 'c'])\n"
     ]
    }
   ],
   "source": [
    "# A tuple with a list as an element\n",
    "my_tuple = (1, 2, ['a', 'b', 'c'])\n",
    "\n",
    "# You can't change the tuple itself\n",
    "#my_tuple[0] = 3  # This would raise a TypeError\n",
    "\n",
    "# But you can modify the mutable elements within the tuple\n",
    "my_tuple[2][0] = 'x-51'  \n",
    "my_tuple[2][1] = \"M1A2\"\n",
    "my_tuple[2][1] = \"M119A6\"\n",
    "print(my_tuple)  # Outputs: (1, 2, ['x', 'b', 'c'])"
   ]
  },
  {
   "cell_type": "code",
   "execution_count": 137,
   "metadata": {},
   "outputs": [
    {
     "name": "stdout",
     "output_type": "stream",
     "text": [
      "(12, 8, 20, 5.0)\n"
     ]
    }
   ],
   "source": [
    "def calculate_numbers(a, b):\n",
    "    return a+b, a-b, a*b, a/b\n",
    "\n",
    "result = calculate_numbers(10, 2)\n",
    "print(result)  # Outputs: (12, 8, 20, 5.0)"
   ]
  },
  {
   "cell_type": "code",
   "execution_count": 139,
   "metadata": {},
   "outputs": [
    {
     "name": "stdout",
     "output_type": "stream",
     "text": [
      "12\n",
      "8\n",
      "20\n",
      "5.0\n"
     ]
    }
   ],
   "source": [
    "add_result, sub_result, mul_result, div_result = calculate_numbers(10, 2)\n",
    "print(add_result)  # Outputs: 12\n",
    "print(sub_result)  # Outputs: 8\n",
    "print(mul_result)\n",
    "print(div_result)"
   ]
  },
  {
   "cell_type": "code",
   "execution_count": 145,
   "metadata": {},
   "outputs": [
    {
     "name": "stdout",
     "output_type": "stream",
     "text": [
      "[1, 9, 25, 49, 81]\n"
     ]
    }
   ],
   "source": [
    "my_list = [ x*x for x in range(1,11) if x % 2 !=0 ]\n",
    "\n",
    "print(my_list)"
   ]
  },
  {
   "cell_type": "code",
   "execution_count": 147,
   "metadata": {},
   "outputs": [
    {
     "data": {
      "text/plain": [
       "(3, 6, 9)"
      ]
     },
     "execution_count": 147,
     "metadata": {},
     "output_type": "execute_result"
    }
   ],
   "source": [
    "tuple(i*3 for i in (1, 2, 3))"
   ]
  },
  {
   "cell_type": "code",
   "execution_count": 149,
   "metadata": {},
   "outputs": [
    {
     "name": "stdout",
     "output_type": "stream",
     "text": [
      "['January 2021', 'January 2026', 'January 2024', 'May 2025', 'April 2024', 'August 2024', 'September 2025', 'December 2024', 'January 2028', 'January 2029']\n"
     ]
    }
   ],
   "source": [
    "# This block of code changes the year on a list of dates.\n",
    "# The \"years\" list is given with existing elements. \n",
    "years = [\"January 2021\",\"January 2022\",\"January 2023\", \"May 2025\", \"April 2023\", \"August 2024\", \"September 2025\", \"December 2023\",\"January 2028\",\"January 2029\",]\n",
    "\n",
    "# The variable \"updated_years\" is initialized as a list data type \n",
    "# using empty square brackets []. This list will hold the new list\n",
    "# with the updated years. \n",
    "updated_years = []\n",
    "# The for loop checks each \"year\" element in the list \"years\".\n",
    "for year in years:\n",
    "    # The if-statement checks if the \"year\" element ends with the \n",
    "    # substring \"2023\". \n",
    "    if year.endswith(\"2023\"):\n",
    "        # If True, then a temporary variable \"new\" will hold the \n",
    "        # modified \"year\" element where the \"2023\" substring is \n",
    "        # replaced with the substring \"2024\".\n",
    "        new = year.replace(\"2023\",\"2024\")\n",
    "        # Then, the list \"updated_years\" is appended with the changed\n",
    "        # element held in the temporary variable \"new\".\n",
    "        updated_years.append(new)\n",
    "    # If False, the original \"year\" element will be appended to the \n",
    "    # the \"updated_years\" list unchanged.\n",
    "    elif year.endswith(\"2022\"):\n",
    "        new = year.replace(\"2022\",\"2026\")\n",
    "        updated_years.append(new)        \n",
    "    else:\n",
    "        updated_years.append(year)\n",
    "print(updated_years) \n"
   ]
  },
  {
   "cell_type": "code",
   "execution_count": 153,
   "metadata": {},
   "outputs": [
    {
     "name": "stdout",
     "output_type": "stream",
     "text": [
      "['January 2021', 'January 2026', 'January 2024', 'May 2025', 'April 2024', 'August 2024', 'September 2025', 'December 2024', 'January 2028', 'January 2029']\n"
     ]
    }
   ],
   "source": [
    "# This block of code also changes the year on a list of dates using a\n",
    "# different approach than demonstrated in Skill Group 1. By using a \n",
    "# list comprehension, you can see how it is possible to refactor the\n",
    "# code to a shorter, more efficient code block. \n",
    "\n",
    "# The \"years\" list is given with existing elements.\n",
    "years = [\"January 2021\",\"January 2022\",\"January 2023\", \"May 2025\", \"April 2023\", \"August 2024\", \"September 2025\", \"December 2023\",\"January 2028\",\"January 2029\",]\n",
    "\n",
    "# The list comprehension below creates a new list \"updated_years\" to\n",
    "# hold the command to replace the \"2023\" substring of the \"year\"\n",
    "# element with the substring \"2024\". This action will be executed if\n",
    "# the last 4 indices of the \"year\" string is equal to the substring\n",
    "# \"2023\". If false (else), the \"year\" element will be included in the\n",
    "# new list \"updated_years\" unchanged.\n",
    "updated_years = [year.replace(\"2023\",\"2024\") if year[-4:] == \"2023\" else year for year in years]\n",
    "updated_years1 = [year.replace(\"2022\",\"2026\") if year[-4:] == \"2022\" else year for year in updated_years]\n",
    "print(updated_years1) \n"
   ]
  },
  {
   "cell_type": "code",
   "execution_count": null,
   "metadata": {},
   "outputs": [],
   "source": []
  },
  {
   "cell_type": "code",
   "execution_count": 150,
   "metadata": {},
   "outputs": [
    {
     "name": "stdout",
     "output_type": "stream",
     "text": [
      "[4, 9]\n",
      "[1, 4, 9, 16, 25]\n",
      "[0, 1, 4, 9, 16, 25, 36, 49, 64, 81, 100]\n"
     ]
    }
   ],
   "source": [
    "# This list comprehension creates a list of squared numbers (n*n). It\n",
    "# accepts two integer variables through the function’s parameters.\n",
    "def squares(start, end):\n",
    "    # The list comprehension calculates the square of a variable integer \n",
    "    # \"n\", where \"n\" ranges from the \"start\" to \"end\" variables inclusively.\n",
    "    # To be inclusive in a range(), add +1 to the end of range variable.\n",
    "    return [n*n for n in range(start,end+1)] \n",
    "\n",
    "print(squares(2, 3))  # Should print [4, 9]\n",
    "print(squares(1, 5))  # Should print [1, 4, 9, 16, 25]\n",
    "print(squares(0, 10)) # Should print [0, 1, 4, 9, 16, 25, 36, 49, 64, 81, 100]"
   ]
  },
  {
   "cell_type": "code",
   "execution_count": 157,
   "metadata": {},
   "outputs": [
    {
     "name": "stdout",
     "output_type": "stream",
     "text": [
      "['1one', '2two', '3three', '4four', '5five']\n",
      "None\n"
     ]
    }
   ],
   "source": [
    "# This function splits a given string into a list of elements. Then, it\n",
    "# modifies each element by moving the first character to the end of the \n",
    "# element and adds a dash between the element and the moved character. \n",
    "# For example, the element \"2two\" will be changed to \"two-2\". Finally,\n",
    "# the function converts the list back to a string, and returns the\n",
    "# new string.\n",
    "def change_string(given_string):\n",
    "\n",
    "    # Initialize \"new_string\" as a string data type by using empty quotes.`\n",
    "    new_string = \"\"\n",
    "\n",
    "    # Split the \"given_string\" into a \"new_list\", with each \"element\"\n",
    "    # holding an individual word from the string.\n",
    "    new_list = given_string.split()\n",
    "    print(new_list)\n",
    "    # The for loop iterates over each \"element\" in the \"new_list\".\n",
    "    for element in new_list:\n",
    "        # Convert the list into a \"new_string\" by using the assignment\n",
    "        # operator += to concatenate the following items: \n",
    "        # + Each list \"element\" (starting at index position [1:]), \n",
    "        # + a dash \"-\", \n",
    "        # + append the first character of the \"element\" (using the index \n",
    "        # [0]) to the end of the \"element\", and finally,\n",
    "        # + a space \" \" to separate each \"element\" in the \"new_string\".\n",
    "        new_string += element[1:] + \"-\" + element[0] + \" \"\n",
    "\n",
    "    # Return the list that has been converted back into a string.\n",
    "    #return new_string\n",
    "\n",
    "print(change_string(\"1one 2two 3three 4four 5five\")) # Should print \"one-1 two-2 three-3 four-4 five-5\"  "
   ]
  },
  {
   "cell_type": "code",
   "execution_count": 158,
   "metadata": {},
   "outputs": [
    {
     "name": "stdout",
     "output_type": "stream",
     "text": [
      "The Printers list includes: Color Printer, Black and White Printer, 3-D Printer\n"
     ]
    }
   ],
   "source": [
    "# This function accepts a list name and a list of elements, and returns\n",
    "# a string with the format: \"The \"list_name\" list includes: element1, \n",
    "# element2, element3\". \n",
    "def list_elements(list_name, elements):\n",
    "    # This task can be completed in a single line of code. The \n",
    "    # concatenation of strings, \"list_name\", and the list \"elements\" can\n",
    "    # occur on the return line. In this case, the string \"The \" is added \n",
    "    # to the \"list_name\", plus the string \" list includes: \", then the\n",
    "    # \"elements\" are joined using a comma to separate each element of the \n",
    "    # list.\n",
    "    return \"The \" + list_name + \" list includes: \" + \", \".join(elements)\n",
    "\n",
    "print(list_elements(\"Printers\", [\"Color Printer\", \"Black and White Printer\", \"3-D Printer\"]))\n",
    "# Should print \"The Printers list includes: Color Printer, Black and White Printer, 3-D Printer\""
   ]
  },
  {
   "cell_type": "code",
   "execution_count": 182,
   "metadata": {},
   "outputs": [
    {
     "name": "stdout",
     "output_type": "stream",
     "text": [
      "Ira is 30 years old and works as a Chef\n",
      "Raj is 35 years old and works as a Lawyer\n",
      "Maria is 25 years old and works as an Engineer\n"
     ]
    }
   ],
   "source": [
    "def biography_list(people):\n",
    "    # Iterate over each \"person\" in the given \"people\" list of tuples. \n",
    "    for person in people: \n",
    "     \n",
    "        #print(person) \n",
    "        # Separate the 3 items in each tuple into 3 variables:\n",
    "        # \"name\", \"age\", and \"profession\"   \n",
    "        name, age, profession = person       \n",
    "        #print(name)\n",
    "        # Format the required sentence and place the 3 variables \n",
    "        # in the correct placeholders using the .format() method.\n",
    "        print(\"{} is {} years old and works as {}\".format(name, age, profession))\n",
    "\n",
    "# Call to the function:\n",
    "biography_list([(\"Ira\", 30, \"a Chef\"), (\"Raj\", 35, \"a Lawyer\"), (\"Maria\", 25, \"an Engineer\")])\n",
    "\n",
    "\n",
    "# Click Run to submit code\n",
    "\n",
    "\n",
    "# Output should match:\n",
    "# Ira is 30 years old and works as a Chef\n",
    "# Raj is 35 years old and works as a Lawyer\n",
    "# Maria is 25 years old and works as an Engineer"
   ]
  },
  {
   "cell_type": "code",
   "execution_count": null,
   "metadata": {},
   "outputs": [],
   "source": []
  },
  {
   "cell_type": "code",
   "execution_count": 161,
   "metadata": {},
   "outputs": [
    {
     "name": "stdout",
     "output_type": "stream",
     "text": [
      "[(2, 1), (3, 4), (4, 9), (5, 16), (6, 25)]\n"
     ]
    }
   ],
   "source": [
    "# A simple function to add 1 to a given number\n",
    "def add_one(number):\n",
    "    return number + 1, number * number\n",
    "\n",
    "# A list of numbers\n",
    "numbers = [1, 2, 3, 4, 5]\n",
    "\n",
    "# Use map to apply the function to each element in the list\n",
    "result = map(add_one, numbers)\n",
    "\n",
    "# Convert the map object to a list to print the result\n",
    "print(list(result))\n",
    "\n",
    "# Outputs: [2, 3, 4, 5, 6]"
   ]
  },
  {
   "cell_type": "code",
   "execution_count": 162,
   "metadata": {},
   "outputs": [
    {
     "name": "stdout",
     "output_type": "stream",
     "text": [
      "[('Alice', 25), ('Bob', 30), ('Charlie', 35)]\n"
     ]
    }
   ],
   "source": [
    "# Two lists\n",
    "names = [\"Alice\", \"Bob\", \"Charlie\"]\n",
    "ages = [25, 30, 35]\n",
    "\n",
    "# Use zip to combine the lists\n",
    "combined = zip(names, ages)\n",
    "\n",
    "# Convert the zip object to a list to print the result\n",
    "print(list(combined))\n",
    "\n",
    "# Outputs: [('Alice', 25), ('Bob', 30), ('Charlie', 35)]"
   ]
  },
  {
   "cell_type": "code",
   "execution_count": 164,
   "metadata": {},
   "outputs": [
    {
     "name": "stdout",
     "output_type": "stream",
     "text": [
      "['program.c', 'stdio.hpp', 'sample.hpp', 'a.out', 'math.hpp', 'hpp.out']\n"
     ]
    }
   ],
   "source": [
    "filenames = [\"program.c\", \"stdio.hpp\", \"sample.hpp\", \"a.out\", \"math.hpp\", \"hpp.out\"]\n",
    "# Generate new_filenames as a list containing the new filenames\n",
    "# using as many lines of code as your chosen method requires.\n",
    "\n",
    "\n",
    "new_filenames = []\n",
    "for filename in filenames:\n",
    "    if filename.endswith(\"hpp\"):\n",
    "        filename.replace(\"hpp\",\"h\")\n",
    "        new_filenames.append(filename)\n",
    "    else:\n",
    "        new_filenames.append(filename)\n",
    "\n",
    "\n",
    "print(new_filenames)"
   ]
  },
  {
   "cell_type": "code",
   "execution_count": 167,
   "metadata": {},
   "outputs": [
    {
     "name": "stdout",
     "output_type": "stream",
     "text": [
      "['program.c', 'stdio.h', 'sample.h', 'a.out', 'math.h', 'hpp.out']\n"
     ]
    }
   ],
   "source": [
    "filenames = [\"program.c\", \"stdio.hpp\", \"sample.hpp\", \"a.out\", \"math.hpp\", \"hpp.out\"]\n",
    "# Generate new_filenames as a list containing the new filenames\n",
    "# using as many lines of code as your chosen method requires.\n",
    "new_filenames = [filename.replace(\"hpp\",\"h\") if filename.endswith(\"hpp\") else filename for filename in filenames]\n",
    "print(new_filenames) \n",
    "# Should print [\"program.c\", \"stdio.h\", \"sample.h\", \"a.out\", \"math.h\", \"hpp.out\"]"
   ]
  },
  {
   "cell_type": "code",
   "execution_count": 175,
   "metadata": {},
   "outputs": [
    {
     "name": "stdout",
     "output_type": "stream",
     "text": [
      "ellohay owhay reaay ouyay \n",
      "rogrammingpay niay ythonpay siay unfay \n"
     ]
    }
   ],
   "source": [
    "def pig_latin(text):\n",
    "  say = \"\"\n",
    "  # Separate the text into words\n",
    "  words = text.split()\n",
    "  for word in words:\n",
    "    # Create the pig latin word and add it to the list\n",
    "    say += word[1:] + word[0] + \"ay \"\n",
    "    # Turn the list back into a phrase\n",
    "  return say\n",
    "    \n",
    "print(pig_latin(\"hello how are you\")) # Should be \"ellohay owhay reaay ouyay\"\n",
    "print(pig_latin(\"programming in python is fun\")) # Should be \"rogrammingpay niay ythonpay siay unfay\""
   ]
  },
  {
   "cell_type": "code",
   "execution_count": 174,
   "metadata": {},
   "outputs": [
    {
     "name": "stdout",
     "output_type": "stream",
     "text": [
      "one-1 two-2 three-3 four-4 five-5 \n"
     ]
    }
   ],
   "source": [
    "# This function splits a given string into a list of elements. Then, it\n",
    "# modifies each element by moving the first character to the end of the \n",
    "# element and adds a dash between the element and the moved character. \n",
    "# For example, the element \"2two\" will be changed to \"two-2\". Finally,\n",
    "# the function converts the list back to a string, and returns the\n",
    "# new string.\n",
    "def change_string(given_string):\n",
    "\n",
    "    # Initialize \"new_string\" as a string data type by using empty quotes.`\n",
    "    new_string = \"\"\n",
    "\n",
    "    # Split the \"given_string\" into a \"new_list\", with each \"element\"\n",
    "    # holding an individual word from the string.\n",
    "    new_list = given_string.split()\n",
    "    #print(new_list)\n",
    "    # The for loop iterates over each \"element\" in the \"new_list\".\n",
    "    for element in new_list:\n",
    "        # Convert the list into a \"new_string\" by using the assignment\n",
    "        # operator += to concatenate the following items: \n",
    "        # + Each list \"element\" (starting at index position [1:]), \n",
    "        # + a dash \"-\", \n",
    "        # + append the first character of the \"element\" (using the index \n",
    "        # [0]) to the end of the \"element\", and finally,\n",
    "        # + a space \" \" to separate each \"element\" in the \"new_string\".\n",
    "        new_string += element[1:] + \"-\" + element[0] + \" \"\n",
    "\n",
    "    # Return the list that has been converted back into a string.\n",
    "    return new_string\n",
    "\n",
    "print(change_string(\"1one 2two 3three 4four 5five\")) # Should print \"one-1 two-2 three-3 four-4 five-5\"  "
   ]
  },
  {
   "cell_type": "code",
   "execution_count": 184,
   "metadata": {},
   "outputs": [
    {
     "name": "stdout",
     "output_type": "stream",
     "text": [
      "{'jpg': 10, 'txt': 14, 'csv': 2, 'py': 23, 'cfg': 8, 'gif': 33}\n"
     ]
    }
   ],
   "source": [
    "file_counts = {\"jpg\":10, \"txt\":14, \"csv\":2, \"py\":23}\n",
    "file_counts[\"cfg\"] = 8\n",
    "file_counts[\"gif\"] = 33\n",
    "print(file_counts)"
   ]
  },
  {
   "cell_type": "code",
   "execution_count": 185,
   "metadata": {},
   "outputs": [
    {
     "name": "stdout",
     "output_type": "stream",
     "text": [
      "{'name': 'John', 'age': 30, 'city': 'New York'}\n"
     ]
    }
   ],
   "source": [
    "# JSON字符串\n",
    "json_string = '{\"name\": \"John\", \"age\": 30, \"city\": \"New York\"}'\n",
    "\n",
    "# 将JSON字符串解析为字典\n",
    "data = eval(json_string)\n",
    "\n",
    "# 打印字典\n",
    "print(data)\n",
    "\n"
   ]
  },
  {
   "cell_type": "code",
   "execution_count": 187,
   "metadata": {},
   "outputs": [
    {
     "data": {
      "text/plain": [
       "1"
      ]
     },
     "execution_count": 187,
     "metadata": {},
     "output_type": "execute_result"
    }
   ],
   "source": [
    "animals = { \"bears\":10, \"lions\":1, \"tigers\":2 }\n",
    "animals[\"lions\"]"
   ]
  },
  {
   "cell_type": "code",
   "execution_count": 188,
   "metadata": {},
   "outputs": [],
   "source": [
    "animals[\"zebras\"] = 2\n"
   ]
  },
  {
   "cell_type": "code",
   "execution_count": 189,
   "metadata": {},
   "outputs": [
    {
     "name": "stdout",
     "output_type": "stream",
     "text": [
      "{'bears': 10, 'lions': 1, 'tigers': 2, 'zebras': 2}\n"
     ]
    }
   ],
   "source": [
    "print(animals)"
   ]
  },
  {
   "cell_type": "code",
   "execution_count": 190,
   "metadata": {},
   "outputs": [],
   "source": [
    "del animals[\"lions\"] \n"
   ]
  },
  {
   "cell_type": "code",
   "execution_count": 191,
   "metadata": {},
   "outputs": [
    {
     "name": "stdout",
     "output_type": "stream",
     "text": [
      "{'bears': 10, 'tigers': 2, 'zebras': 2}\n"
     ]
    }
   ],
   "source": [
    "print(animals)"
   ]
  },
  {
   "cell_type": "code",
   "execution_count": 192,
   "metadata": {},
   "outputs": [
    {
     "name": "stdout",
     "output_type": "stream",
     "text": [
      "There are 10 files with the .jpg extension\n",
      "There are 14 files with the .txt extension\n",
      "There are 2 files with the .csv extension\n",
      "There are 23 files with the .py extension\n"
     ]
    }
   ],
   "source": [
    "file_counts = {\"jpg\":10, \"txt\":14, \"csv\":2, \"py\":23}\n",
    "for ext, amount in file_counts.items():\n",
    "  print(\"There are {} files with the .{} extension\".format(amount, ext))"
   ]
  },
  {
   "cell_type": "code",
   "execution_count": 194,
   "metadata": {},
   "outputs": [
    {
     "name": "stdout",
     "output_type": "stream",
     "text": [
      "There are 100 equipment with name M1A2\n",
      "There are 60 equipment with name M113\n",
      "There are 42 equipment with name M60A3\n"
     ]
    }
   ],
   "source": [
    "weapen_list ={\"M1A2\":100,\"M113\":60,\"M60A3\":42}\n",
    "for type,qty in weapen_list.items():\n",
    "  print(\"There are {} equipment with name {}\".format(qty,type))    "
   ]
  },
  {
   "cell_type": "code",
   "execution_count": 195,
   "metadata": {},
   "outputs": [
    {
     "data": {
      "text/plain": [
       "dict_keys(['jpg', 'txt', 'csv', 'py'])"
      ]
     },
     "execution_count": 195,
     "metadata": {},
     "output_type": "execute_result"
    }
   ],
   "source": [
    "file_counts = {\"jpg\":10, \"txt\":14, \"csv\":2, \"py\":23}\n",
    "file_counts.keys()\n",
    "#file_counts.values()"
   ]
  },
  {
   "cell_type": "code",
   "execution_count": 196,
   "metadata": {},
   "outputs": [
    {
     "data": {
      "text/plain": [
       "{'a': 2,\n",
       " ' ': 7,\n",
       " 'l': 3,\n",
       " 'o': 3,\n",
       " 'n': 2,\n",
       " 'g': 2,\n",
       " 's': 2,\n",
       " 't': 5,\n",
       " 'r': 2,\n",
       " 'i': 2,\n",
       " 'w': 1,\n",
       " 'h': 1,\n",
       " 'f': 1,\n",
       " 'e': 2}"
      ]
     },
     "execution_count": 196,
     "metadata": {},
     "output_type": "execute_result"
    }
   ],
   "source": [
    "def count_letters(text):\n",
    "  result = {}\n",
    "  for letter in text:\n",
    "    if letter not in result:\n",
    "      result[letter] = 0\n",
    "    result[letter] += 1\n",
    "  return result\n",
    "count_letters(\"aaaaa\")\n",
    "count_letters(\"tenant\")\n",
    "count_letters(\"a long string with a lot of letters\")"
   ]
  },
  {
   "cell_type": "code",
   "execution_count": 220,
   "metadata": {},
   "outputs": [
    {
     "name": "stdout",
     "output_type": "stream",
     "text": [
      "M1A2 : 100\n",
      "M113 : 60\n",
      "M60A3 : 42\n"
     ]
    }
   ],
   "source": [
    "weapen_list ={\"M1A2\":100,\"M113\":60,\"M60A3\":42}\n",
    "keys = list(weapen_list.keys())\n",
    "i = 0\n",
    "while i < len(keys):\n",
    "    key = keys[i]\n",
    "    value = weapen_list[key]\n",
    "    print(key, ':', value)\n",
    "    i += 1    "
   ]
  },
  {
   "cell_type": "code",
   "execution_count": 221,
   "metadata": {},
   "outputs": [
    {
     "name": "stdout",
     "output_type": "stream",
     "text": [
      "20.1\n"
     ]
    }
   ],
   "source": [
    "# This function returns the total time, with minutes represented as \n",
    "# decimals (example: 1 hour 30 minutes = 1.5), for all end user time\n",
    "# spent accessing a server in a given day. \n",
    "\n",
    "\n",
    "def sum_server_use_time(Server):\n",
    "\n",
    "    # Initialize the variable as a float data type, which will be used\n",
    "    # to hold the sum of the total hours and minutes of server usage by\n",
    "    # end users in a day.\n",
    "    total_use_time = 0.0\n",
    "\n",
    "    # Iterate through the \"Server\" dictionary’s key and value items \n",
    "    # using a for loop.\n",
    "    for key,value in Server.items():\n",
    "\n",
    "        # For each end user key, add the associated time value to the\n",
    "        # total sum of all end user use time.\n",
    "        total_use_time += Server[key]\n",
    "        \n",
    "    # Round the return value and limit to 2 decimal places.\n",
    "    return round(total_use_time, 2)  \n",
    "\n",
    "FileServer = {\"EndUser1\": 2.25, \"EndUser2\": 4.5, \"EndUser3\": 1, \"EndUser4\": 3.75, \"EndUser5\": 0.6, \"EndUser6\": 8}\n",
    "\n",
    "print(sum_server_use_time(FileServer)) # Should print 20.1"
   ]
  },
  {
   "cell_type": "code",
   "execution_count": 226,
   "metadata": {},
   "outputs": [
    {
     "name": "stdout",
     "output_type": "stream",
     "text": [
      "19.7842\n"
     ]
    }
   ],
   "source": [
    "def sum_use_time(Server):\n",
    "    total = 0.0\n",
    "    for key,value in Server.items():\n",
    "\n",
    "        total += Server[key]\n",
    "    return round(total,4)\n",
    "\n",
    "fileserver={\"A1\": 2.331,\"A2\":3.5,\"A3\":4.4,\"A4\":5.0,\"A5\":4.5532}\n",
    "print(sum_use_time(fileserver))\n",
    "    "
   ]
  },
  {
   "cell_type": "code",
   "execution_count": 227,
   "metadata": {},
   "outputs": [
    {
     "name": "stdout",
     "output_type": "stream",
     "text": [
      "['Muhammad Ali', 'Amir Ali', 'Malik Ali', 'Ram Devi', 'Amaira Devi', 'Feng Chen', 'Li Chen']\n"
     ]
    }
   ],
   "source": [
    "# This function receives a dictionary, which contains common employee \n",
    "# last names as keys, and a list of employee first names as values. \n",
    "# The function generates a new list that contains each employees’ full\n",
    "# name (First_name Last_Name). For example, the key \"Garcia\" with the \n",
    "# values [\"Maria\", \"Hugo\", \"Lucia\"] should be converted to a list \n",
    "# that contains [\"Maria Garcia\", \"Hugo Garcia\", \"Lucia Garcia\"].\n",
    "\n",
    "\n",
    "def list_full_names(employee_dictionary):\n",
    "    # Initialize the \"full_names\" variable as a list data type using\n",
    "    # empty [] square brackets.  \n",
    "    full_names = []\n",
    "\n",
    "    # The outer for loop iterates through each \"last_name\" key and \n",
    "    # associated \"first_name\" values, in the \"employee_dictionary\" items.\n",
    "    for last_name, first_names in employee_dictionary.items():\n",
    "\n",
    "        # The inner for loop iterates over each \"first_name\" value in \n",
    "        # the list of \"first_names\" for one \"last_name\" key at a time.\n",
    "        for first_name in first_names:\n",
    "\n",
    "            # Append the new \"full_names\" list with the \"first_name\" value\n",
    "            # concatenated with a space \" \", and the key \"last_name\". \n",
    "            full_names.append(first_name+\" \"+last_name)\n",
    "            \n",
    "    # Return the new \"full_names\" list once the outer for loop has \n",
    "    # completed all iterations. \n",
    "    return(full_names)\n",
    "\n",
    "\n",
    "print(list_full_names({\"Ali\": [\"Muhammad\", \"Amir\", \"Malik\"], \"Devi\": [\"Ram\", \"Amaira\"], \"Chen\": [\"Feng\", \"Li\"]}))\n",
    "# Should print ['Muhammad Ali', 'Amir Ali', 'Malik Ali', 'Ram Devi', 'Amaira Devi', 'Feng Chen', 'Li Chen']\n"
   ]
  },
  {
   "cell_type": "code",
   "execution_count": 228,
   "metadata": {},
   "outputs": [
    {
     "name": "stdout",
     "output_type": "stream",
     "text": [
      "{'IDE HDDs': ['Hard Drives', 'PC Parts'], 'SCSI HDDs': ['Hard Drives', 'PC Parts'], 'High-end video cards': ['PC Parts', 'Video Cards'], 'Basic video cards': ['PC Parts', 'Video Cards']}\n"
     ]
    }
   ],
   "source": [
    "# This function receives a dictionary, which contains resource \n",
    "# categories (keys) with a list of available resources (values) for a \n",
    "# company’s IT Department. The resources belong to multiple categories.\n",
    "# The function should reverse the keys and values to show which \n",
    "# categories (values) each resource (key) belongs to. \n",
    "\n",
    "\n",
    "def invert_resource_dict(resource_dictionary):\n",
    "  # Initialize a \"new_dictionary\" variable as a dict data type using\n",
    "  # empty {} curly brackets. \n",
    "    new_dictionary = {}\n",
    "    # The outer for loop iterates through each \"resource_group\" and \n",
    "    # associated \"resources\" in the \"resource_dictionary\" items.\n",
    "    for resource_group, resources in resource_dictionary.items():\n",
    "        # The inner for loop iterates over each \"resource\" value in \n",
    "        # the list of \"resources\" for one \"resource_group\" key at a time.\n",
    "        for resource in resources:\n",
    "            # The if-statement checks if the current \"resource\" value has \n",
    "            # been appended as a key to the \"new_dictionary\" yet.\n",
    "            if resource in new_dictionary:\n",
    "                # If True, then append the \"resource_group\" as a value to the\n",
    "                # \"resource\", which is now the key.\n",
    "                new_dictionary[resource].append(resource_group)\n",
    "            # If False (else), then add the \"resource\" as a new key with the \n",
    "            # \"resource_group\" as a value for that key.\n",
    "            else:\n",
    "                new_dictionary[resource] = [resource_group]\n",
    "    # Return the new dictionary once the outer for loop has completed  \n",
    "    # all iterations.\n",
    "    return(new_dictionary)\n",
    "\n",
    "\n",
    "print(invert_resource_dict({\"Hard Drives\": [\"IDE HDDs\", \"SCSI HDDs\"],\n",
    "        \"PC Parts\":  [\"IDE HDDs\", \"SCSI HDDs\", \"High-end video cards\", \"Basic video cards\"], \"Video Cards\": [\"High-end video cards\", \"Basic video cards\"]}))\n",
    "# Should print {'IDE HDDs': ['Hard Drives', 'PC Parts'], 'SCSI HDDs': ['Hard Drives', 'PC Parts'], 'High-end video cards': ['PC Parts', 'Video Cards'], 'Basic video cards': ['PC Parts', 'Video Cards']}\n"
   ]
  },
  {
   "cell_type": "code",
   "execution_count": 264,
   "metadata": {},
   "outputs": [
    {
     "name": "stdout",
     "output_type": "stream",
     "text": [
      "['clark.kent@gmail.com', 'diana.prince@gmail.com', 'peter.parker@gmail.com', 'barbara.gordon@yahoo.com', 'jean.grey@yahoo.com', 'bruce.wayne@hotmail.com']\n"
     ]
    }
   ],
   "source": [
    "def email_list(domains):\n",
    "    emails = []\n",
    "    for mailname,users in domains.items():\n",
    "\n",
    "        for user in users:\n",
    "               emails.append(user+\"@\"+mailname)\n",
    "    return(emails)           \n",
    "\n",
    "print(email_list({\"gmail.com\": [\"clark.kent\", \"diana.prince\", \"peter.parker\"], \"yahoo.com\": [\"barbara.gordon\", \"jean.grey\"], \"hotmail.com\": [\"bruce.wayne\"]}))\n"
   ]
  },
  {
   "cell_type": "code",
   "execution_count": 281,
   "metadata": {},
   "outputs": [
    {
     "name": "stdout",
     "output_type": "stream",
     "text": [
      "{'admin': ['local', 'public', 'administrator'], 'userA': ['local'], 'userB': ['public']}\n"
     ]
    }
   ],
   "source": [
    "def groups_per_user(group_dictionary):\n",
    "    user_groups = {}\n",
    "    # Go through group_dictionary\n",
    "    for locate,users in group_dictionary.items():\n",
    "        #print(locate)\n",
    "        #print(user_type)\n",
    "        # Now go through the users in the group\n",
    "        for user in users:\n",
    "           #print(user)\n",
    "           if user in user_groups:\n",
    "              user_groups[user].append(locate)\n",
    "            # \"user_groups\" as a value for that key.\n",
    "           else:\n",
    "              user_groups[user] = [locate]                         \n",
    "               \n",
    "           # Now add the group to the the list of\n",
    "# groups for this user, creating the entry\n",
    "# in the dictionary if necessary\n",
    "\n",
    "    return(user_groups)\n",
    "\n",
    "print(groups_per_user({\"local\": [\"admin\", \"userA\"],\n",
    "        \"public\":  [\"admin\", \"userB\"],\n",
    "        \"administrator\": [\"admin\"] }))"
   ]
  },
  {
   "cell_type": "code",
   "execution_count": 285,
   "metadata": {},
   "outputs": [
    {
     "name": "stdout",
     "output_type": "stream",
     "text": [
      "{'shirt': ['red', 'blue', 'white'], 'jeans': ['white'], 'scarf': ['yellow'], 'socks': ['black', 'brown']}\n"
     ]
    }
   ],
   "source": [
    "wardrobe = {'shirt': ['red', 'blue', 'white'], 'jeans': ['blue', 'black']}\n",
    "new_items = {'jeans': ['white'], 'scarf': ['yellow'], 'socks': ['black', 'brown']}\n",
    "wardrobe.update(new_items)\n",
    "print(wardrobe)"
   ]
  },
  {
   "cell_type": "code",
   "execution_count": 286,
   "metadata": {},
   "outputs": [
    {
     "name": "stdout",
     "output_type": "stream",
     "text": [
      "28.44\n"
     ]
    }
   ],
   "source": [
    "def add_prices(basket):\n",
    "\t# Initialize the variable that will be used for the calculation\n",
    "\ttotal = 0\n",
    "\t# Iterate through the dictionary items\n",
    "\tfor name,price in basket.items():\n",
    "\t\t# Add each price to the total calculation\n",
    "\t\t# Hint: how do you access the values of\n",
    "\t\t# dictionary items?\n",
    "\t\ttotal += price\n",
    "\t# Limit the return value to 2 decimal places\n",
    "\treturn round(total, 2)  \n",
    "\n",
    "groceries = {\"bananas\": 1.56, \"apples\": 2.50, \"oranges\": 0.99, \"bread\": 4.59, \n",
    "\t\"coffee\": 6.99, \"milk\": 3.39, \"eggs\": 2.98, \"cheese\": 5.44}\n",
    "\n",
    "print(add_prices(groceries)) # Should print 28.44\n"
   ]
  },
  {
   "cell_type": "code",
   "execution_count": 288,
   "metadata": {},
   "outputs": [
    {
     "name": "stdout",
     "output_type": "stream",
     "text": [
      "an apple which is red and sweet\n"
     ]
    }
   ],
   "source": [
    "class Apple:\n",
    "    def __init__(self, color, flavor):\n",
    "        self.color = color\n",
    "        self.flavor = flavor\n",
    "\n",
    "    def __str__(self):\n",
    "        return \"an apple which is {} and {}\".format(self.color, self.flavor)\n",
    "\n",
    "honeycrisp = Apple(\"red\", \"sweet\")\n",
    "print(honeycrisp)\n",
    "\n",
    "# prints \"an apple which is red and sweet\""
   ]
  },
  {
   "cell_type": "code",
   "execution_count": 291,
   "metadata": {},
   "outputs": [
    {
     "name": "stdout",
     "output_type": "stream",
     "text": [
      "red\n"
     ]
    }
   ],
   "source": [
    "class Apple:\n",
    "    def __init__(self, color, flavor):\n",
    "        self.color = color\n",
    "        self.flavor = flavor\n",
    "jonagold = Apple(\"red\", \"sweet\")\n",
    "print(jonagold.color)        "
   ]
  },
  {
   "cell_type": "code",
   "execution_count": 299,
   "metadata": {},
   "outputs": [
    {
     "name": "stdout",
     "output_type": "stream",
     "text": [
      "The area of triangle 1 is 25.0\n",
      "The area of triangle 2 is 24.0\n",
      "The area of triangle 3 is 24.0\n",
      "The area of both triangles is 49.0\n"
     ]
    }
   ],
   "source": [
    "class Triangle:\n",
    "\n",
    "  def __init__(self, base, height):\n",
    "\n",
    "    self.base = base\n",
    "\n",
    "    self.height = height\n",
    "      \n",
    "  def area(self):\n",
    "\n",
    "    return 0.5 * self.base * self.height\n",
    "      \n",
    "  def __add__(self, other):\n",
    "\n",
    "    return self.area() + other.area()\n",
    "      \n",
    "triangle1 = Triangle(10, 5)\n",
    "\n",
    "triangle2 = Triangle(6, 8)\n",
    "\n",
    "triangle3 = Triangle(8, 6)\n",
    "\n",
    "print(\"The area of triangle 1 is\", triangle1.area())\n",
    "\n",
    "print(\"The area of triangle 2 is\", triangle2.area())\n",
    "\n",
    "print(\"The area of triangle 3 is\", triangle3.area())\n",
    "\n",
    "print(\"The area of both triangles is\", triangle1 + triangle3)      "
   ]
  },
  {
   "cell_type": "code",
   "execution_count": 300,
   "metadata": {},
   "outputs": [
    {
     "name": "stdout",
     "output_type": "stream",
     "text": [
      "The slow brown fox jumps over the lazy dog.\n",
      "555 1234567\n"
     ]
    }
   ],
   "source": [
    "# Example 1: Using .replace() to replace a substring\n",
    "sentence = \"The quick brown fox jumps over the lazy dog.\"\n",
    "\n",
    "# Replace \"quick\" with \"slow\"\n",
    "new_sentence = sentence.replace(\"quick\", \"slow\")\n",
    "\n",
    "print(new_sentence)  # Output: The slow brown fox jumps over the lazy dog.\n",
    "\n",
    "# Example 2: Using .replace() to remove a character\n",
    "phone_number = \"(555) 123-4567\"\n",
    "# Remove parentheses and hyphen\n",
    "cleaned_number = phone_number.replace(\"(\", \"\").replace(\")\", \"\").replace(\"-\", \"\")\n",
    "\n",
    "print(cleaned_number)  # Output: 555 1234567\n"
   ]
  },
  {
   "cell_type": "code",
   "execution_count": 301,
   "metadata": {},
   "outputs": [
    {
     "name": "stdout",
     "output_type": "stream",
     "text": [
      "P\n",
      "t\n",
      "n\n",
      "h\n",
      "is a \n",
      "is a sentence.\n",
      "This is\n",
      "P\n",
      "y\n",
      "t\n",
      "h\n",
      "o\n",
      "n\n",
      "Character at index 0 : T\n",
      "Character at index 1 : h\n",
      "Character at index 2 : i\n",
      "Character at index 3 : s\n",
      "Character at index 4 :  \n",
      "Character at index 5 : i\n",
      "Character at index 6 : s\n",
      "Character at index 7 :  \n",
      "Character at index 8 : a\n",
      "Character at index 9 :  \n",
      "Character at index 10 : s\n",
      "Character at index 11 : e\n",
      "Character at index 12 : n\n",
      "Character at index 13 : t\n",
      "Character at index 14 : e\n",
      "Character at index 15 : n\n",
      "Character at index 16 : c\n",
      "Character at index 17 : e\n",
      "Character at index 18 : .\n"
     ]
    }
   ],
   "source": [
    "# Example 1: Accessing individual characters\n",
    "word = \"Python\"\n",
    "\n",
    "# Accessing characters by positive index\n",
    "print(word[0])    # Output: P\n",
    "print(word[2])    # Output: t\n",
    "\n",
    "# Accessing characters by negative index\n",
    "print(word[-1])   # Output: n\n",
    "print(word[-3])   # Output: h\n",
    "\n",
    "# Example 2: Slicing a string\n",
    "sentence = \"This is a sentence.\"\n",
    "\n",
    "# Slicing from index 5 to 10\n",
    "print(sentence[5:10])    # Output: is a \n",
    "\n",
    "# Slicing from index 5 to the end\n",
    "print(sentence[5:])      # Output: is a sentence.\n",
    "\n",
    "# Slicing from the beginning to index 7\n",
    "print(sentence[:7])      # Output: This is\n",
    "\n",
    "# Example 3: Accessing characters using loops\n",
    "for i in range(len(word)):\n",
    "    print(word[i])   # Output: P y t h o n\n",
    "\n",
    "# Example 4: Accessing characters using a loop with enumerate\n",
    "for idx, char in enumerate(sentence):\n",
    "    print(\"Character at index\", idx, \":\", char)\n"
   ]
  },
  {
   "cell_type": "code",
   "execution_count": 305,
   "metadata": {},
   "outputs": [
    {
     "name": "stdout",
     "output_type": "stream",
     "text": [
      " A box is 11\n",
      " B box is 4\n",
      " C box is 1\n",
      " D box is 4\n"
     ]
    }
   ],
   "source": [
    "Warehouse = [100,34,55,255,300,1000,1023,800,990,700,300,45,400,55,123,200,300,123,200,500]\n",
    "A = 0  # 100g  above < 500\n",
    "B = 0  # 500g  above < 1000\n",
    "C = 0  # 1000g above \n",
    "D = 0  # under 100g\n",
    "for x in Warehouse:\n",
    "    if x < 100:\n",
    "        D += 1\n",
    "    elif x >=100 and x <= 500:\n",
    "        A +=1\n",
    "    elif x > 500 and x <=1000:\n",
    "        B +=1\n",
    "    else:\n",
    "        C +=1\n",
    "print(\" A box is {}\".format(A))\n",
    "print(\" B box is {}\".format(B))\n",
    "print(\" C box is {}\".format(C))\n",
    "print(\" D box is {}\".format(D))"
   ]
  },
  {
   "cell_type": "code",
   "execution_count": 309,
   "metadata": {},
   "outputs": [
    {
     "name": "stdout",
     "output_type": "stream",
     "text": [
      "Winter fleece jackets are on sale for $49.99\n",
      "MA machine gun are on sale for $10000.99\n"
     ]
    }
   ],
   "source": [
    "def sales_prices(item_and_price):\n",
    "    # Initialize variables \"item\" and \"price\" as strings\n",
    "    item = \"\" # store string\n",
    "    price = \"\"\n",
    "    # Create a variable \"item_or_price\" to hold the result of the split. \n",
    "    item_or_price = item_and_price.split()\n",
    "\n",
    "    # For each element \"x\" in the split variable \"item_or_price\" \n",
    "    for x in item_or_price:\n",
    "\n",
    "        # Check if the element is a number\n",
    "        if x.isalpha():\n",
    "\n",
    "            # If true, assign the element to the \"item\" string variable and add a space \n",
    "            # for any item names containing multiple words, like \"Winter fleece jacket\".\n",
    "            item += x + \" \"\n",
    "            #print(item)\n",
    "        # Else, if x is a number (if x.isalpha() is false): \n",
    "        else:\n",
    "            # Assign the element to the \"price\" string variable. \n",
    "            price = x\n",
    "            #print(price)\n",
    "\n",
    "    # Strip the extra space to the right of the last \"item\" word\n",
    "    item = item.strip()\n",
    "\n",
    "    # Return the item name and price formatted in a sentence \n",
    "    return \"{} are on sale for ${}\".format(item,price)\n",
    "\n",
    "\n",
    "# Call to the function \n",
    "print(sales_prices(\"Winter fleece jackets 49.99\"))\n",
    "print(sales_prices(\"MA machine gun 10000.99\"))\n"
   ]
  },
  {
   "cell_type": "code",
   "execution_count": 311,
   "metadata": {},
   "outputs": [
    {
     "data": {
      "text/plain": [
       "10"
      ]
     },
     "execution_count": 311,
     "metadata": {},
     "output_type": "execute_result"
    }
   ],
   "source": [
    "# This function accepts a string variable \"data_field\".  \n",
    "def count_words(data_field):\n",
    "\n",
    "    # Splits the string into individual words. \n",
    "    split_data = data_field.split()\n",
    "  \n",
    "    # Then returns the number of words in the string using the len()\n",
    "    # function. \n",
    "    return len(split_data)\n",
    "    \n",
    "    # Note that it is possible to combine the len() function and the \n",
    "    # .split() method into the same line of code by inserting the \n",
    "    # data_field.split() command into the the len() function parameters.\n",
    "\n",
    "# Call to the function\n",
    "count_words(\"Catalog item 3523: Organic raw pumpkin seeds in shell language\")"
   ]
  },
  {
   "cell_type": "code",
   "execution_count": 317,
   "metadata": {},
   "outputs": [
    {
     "name": "stdout",
     "output_type": "stream",
     "text": [
      "[1991, 2003, 2006, 2007, 2009, 2011, 2018, 2020, 2022]\n",
      "[1989, 1991, 1992, 1997, 2001, 2003, 2006, 2007, 2009, 2011, 2018, 2020, 2022]\n"
     ]
    }
   ],
   "source": [
    "# This function accepts two variables, each containing a list of years.\n",
    "# A current \"recent_first\" list contains [2022, 2018, 2011, 2006].\n",
    "# An older \"recent_last\" list contains [1989, 1992, 1997, 2001].\n",
    "# The lists need to be combined with the years in chronological order.\n",
    "def record_profit_years(recent_first, recent_last):\n",
    "\n",
    "    # Reverse the order of the \"recent_first\" list so that it is in \n",
    "    # chronological order.\n",
    "    #recent_first.reverse()\n",
    "    recent_first.sort()\n",
    "    print(recent_first)\n",
    "    # Extend the \"recent_last\" list by appending the newly reversed \n",
    "    # \"recent_first\" list.\n",
    "    recent_last.extend(recent_first)\n",
    "    recent_last.sort()\n",
    "    # Return the \"recent_last\", which now contains the two lists \n",
    "    # combined in chronological order. \n",
    "    return recent_last\n",
    "\n",
    "# Assign the two lists to the two variables to be passed to the \n",
    "# record_profit_years() function.\n",
    "recent_first = [2022, 2018, 2011, 2006,2007,2009,2003,2020,1991]\n",
    "recent_last = [1989, 1992, 1997, 2001]\n",
    "\n",
    "# Call the record_profit_years() function and pass the two lists as \n",
    "# parameters. \n",
    "print(record_profit_years(recent_first, recent_last))\n"
   ]
  },
  {
   "cell_type": "code",
   "execution_count": 319,
   "metadata": {},
   "outputs": [
    {
     "name": "stdout",
     "output_type": "stream",
     "text": [
      "[1972, 1973, 1974, 1975, 1976, 1977, 1978, 1979]\n"
     ]
    }
   ],
   "source": [
    "# The function accepts two parameters: a start year and an end year.\n",
    "def list_years(start, end):\n",
    "\n",
    "    # It returns a list comprehension that creates a list of years in a for\n",
    "    # loop using a range from the start year to the end year (inclusive of \n",
    "    # the upper range year, using end+1).\n",
    "    return [year for year in range(start, end+1)]\n",
    "\n",
    "\n",
    "# Call the years() function with two parameters.\n",
    "print(list_years(1972, 1980)) \n"
   ]
  },
  {
   "cell_type": "code",
   "execution_count": 323,
   "metadata": {},
   "outputs": [
    {
     "name": "stdout",
     "output_type": "stream",
     "text": [
      "[5, 7, 9, 11, 13, 15]\n"
     ]
    }
   ],
   "source": [
    "# The function accepts two variable integers through the parameters and\n",
    "# returns all odd numbers between x and y-1.\n",
    "def odd_numbers(x, y):\n",
    "\n",
    "\n",
    "# This list comprehension uses a for loop to iterate through values \n",
    "# of n in a range from x to y, with the value of y excluded (meaning\n",
    "# keep the default range() function behavior to exclude the\n",
    "# end-of-range value from the range). Since an incremental value is not \n",
    "# specified, the range function uses the default increment of +1.\n",
    "# The if condition checks n to test if the number is odd using the\n",
    "# modulo operator. This condition is written to check if n is divided \n",
    "# by 2, that the remainder is not 0. \n",
    "    return [n for n in range(x, y+1) if n % 2 != 0]\n",
    "\n",
    "\n",
    "# Call the years() function with two parameters.\n",
    "print(odd_numbers(5, 15)) \n",
    "# Should print [5, 7, 9, 11, 13]"
   ]
  },
  {
   "cell_type": "code",
   "execution_count": 324,
   "metadata": {},
   "outputs": [
    {
     "name": "stdout",
     "output_type": "stream",
     "text": [
      "The IP address of the Domain Name Server is 8.8.8.8\n",
      "The IP address of the Gateway Server is 192.168.1.1\n",
      "The IP address of the Print Server is 192.168.1.33\n",
      "The IP address of the Mail Server is 192.168.1.190\n",
      "\n"
     ]
    }
   ],
   "source": [
    "# The network() function accepts a dictionary \"servers\" as a parameter.\n",
    "def network(servers):\n",
    "\n",
    "    # A string variable is initialized to hold the \"result\". \n",
    "    result = \"\"\n",
    "\n",
    "    # For each \"hostname\" (key) and \"IP address\" (value) in the \"server\" dictionary items...\n",
    "    for hostname, IP_address in servers.items():\n",
    "\n",
    "        # A string identifying the hostname and IP address for each server is added\n",
    "        # to the \"result\" variable. The string .format() function and is used to plug\n",
    "        # the hostname and IP_address variables into the designated {} placeholders\n",
    "        # within the string.\n",
    "        result += \"The IP address of the {} is {}\".format(hostname, IP_address) + \"\\n\"\n",
    "    \n",
    "    # Return the \"result\" variable string.\n",
    "    return result \n",
    "\n",
    "# Call the \"network\" function with the dictionary. \n",
    "print(network({\"Domain Name Server\":\"8.8.8.8\", \"Gateway Server\":\"192.168.1.1\", \"Print Server\":\"192.168.1.33\", \"Mail Server\":\"192.168.1.190\"}))\n",
    "\n",
    "# Should print:\n",
    "# The IP address of the Domain Name Server server is 8.8.8.8\n",
    "# The IP address of the Gateway Server server is 192.168.1.1\n",
    "# The IP address of the Print Server server is 192.168.1.33\n",
    "# The IP address of the Mail Server server is 192.168.1.190\n"
   ]
  },
  {
   "cell_type": "code",
   "execution_count": 325,
   "metadata": {},
   "outputs": [
    {
     "name": "stdout",
     "output_type": "stream",
     "text": [
      "{'Arshi': 0, 'Catalina': 0, 'Diego': 0}\n"
     ]
    }
   ],
   "source": [
    "# The scores() function accepts a dictionary \"game_scores\" as a parameter.\n",
    "def reset_scores(game_scores):\n",
    "\n",
    "    # The .copy() dictionary method is used to create a new copy of the \"game_scores\".\n",
    "    new_game_scores = game_scores.copy() \n",
    "\n",
    "    # The for loop iterates over new_game_scores items, with the player as the key\n",
    "    # and the score as the value. \n",
    "    for player, score in new_game_scores.items():\n",
    "    \n",
    "        # The dictionary operation to assign a new value to a key is used\n",
    "        # to reset the grade values to 0.\n",
    "        new_game_scores[player] = 0\n",
    "  \n",
    "    return new_game_scores\n",
    " \n",
    "# The dictionary is defined.\n",
    "game1_scores = {\"Arshi\": 3, \"Catalina\": 7, \"Diego\": 6}\n",
    " \n",
    "# Call the \"reset_scores\" function with the \"game1_scores\" dictionary. \n",
    "print(reset_scores(game1_scores))\n",
    "# Should print {'Arshi': 0, 'Catalina': 0, 'Diego': 0}"
   ]
  },
  {
   "cell_type": "code",
   "execution_count": 329,
   "metadata": {},
   "outputs": [
    {
     "name": "stdout",
     "output_type": "stream",
     "text": [
      "House number 123 on a stress named Main Street\n",
      "House number 1001 on a stress named 1st Ave\n",
      "House number 55 on a stress named North Center Drive\n"
     ]
    }
   ],
   "source": [
    "def format_address(address_string):\n",
    "\n",
    "\n",
    "    house_number = \"\"\n",
    "    street_name = \"\"\n",
    "\n",
    "\n",
    "    # Separate the house number from the street name.\n",
    "    address_parts = address_string.split()\n",
    "\n",
    "    for address_part in address_parts:\n",
    "       # Complete the if-statement with a string method.  \n",
    "       if address_part.isnumeric()\n",
    "         house_number = address_part\n",
    "       else:\n",
    "         street_name += address_part + \" \"\n",
    "    # Remove the extra space at the end of the last \"street_name\".\n",
    "    street_name = street_name.strip()\n",
    " \n",
    "    # Use a string method to return the required formatted string.\n",
    "    return (\"House number {} on a stress named {}\".format(house_number,street_name))\n",
    "\n",
    "print(format_address(\"123 Main Street\"))\n",
    "# Should print: \"House number 123 on a street named Main Street\"\n",
    "\n",
    "\n",
    "print(format_address(\"1001 1st Ave\"))\n",
    "# Should print: \"House number 1001 on a street named 1st Ave\"\n",
    "\n",
    "\n",
    "print(format_address(\"55 North Center Drive\"))\n",
    "# Should print \"House number 55 on a street named North Center Drive\""
   ]
  },
  {
   "cell_type": "code",
   "execution_count": 349,
   "metadata": {},
   "outputs": [
    {
     "name": "stdout",
     "output_type": "stream",
     "text": [
      "Have a NICE day\n",
      "Shhh, don't be so LOUD!\n",
      "Automating with Python is FUN\n"
     ]
    }
   ],
   "source": [
    "def highlight_word(sentence, word):\n",
    "    mylist = sentence \n",
    "    new_sentence = sentence.replace(word, word.upper())\n",
    "    return new_sentence  # Output: The slow brown fox jumps over the lazy dog.\n",
    "\n",
    "print(highlight_word(\"Have a nice day\", \"nice\"))\n",
    "# Should print: \"Have a NICE day\"\n",
    "print(highlight_word(\"Shhh, don't be so loud!\", \"loud\"))\n",
    "# Should print: \"Shhh, don't be so LOUD!\"\n",
    "print(highlight_word(\"Automating with Python is fun\", \"fun\"))\n",
    "# Should print: \"Automating with Python is FUN\""
   ]
  },
  {
   "cell_type": "code",
   "execution_count": 355,
   "metadata": {},
   "outputs": [
    {
     "name": "stdout",
     "output_type": "stream",
     "text": [
      "[15, 9, 8, 4, 2, 0]\n"
     ]
    }
   ],
   "source": [
    "def sort_distance(lst):\n",
    "    # sort first\n",
    "    sorted_list = sorted(lst)\n",
    "    # reverse()\n",
    "    sorted_list.reverse()\n",
    "    # return result \n",
    "    return sorted_list\n",
    "    \n",
    "print(sort_distance([2,4,0,15,8,9]))    "
   ]
  },
  {
   "cell_type": "code",
   "execution_count": 356,
   "metadata": {},
   "outputs": [
    {
     "data": {
      "text/plain": [
       "dict_values(['Aniyah Cook', 'Ines Bisset', 'Wayne Branon'])"
      ]
     },
     "execution_count": 356,
     "metadata": {},
     "output_type": "execute_result"
    }
   ],
   "source": [
    "teacher_names = {\"Math\": \"Aniyah Cook\", \"Science\": \"Ines Bisset\", \"Engineering\": \"Wayne Branon\"}\n",
    "teacher_names.values()"
   ]
  },
  {
   "cell_type": "code",
   "execution_count": 359,
   "metadata": {},
   "outputs": [
    {
     "name": "stdout",
     "output_type": "stream",
     "text": [
      "['rock', 'pop', 'country', 'blues']\n"
     ]
    }
   ],
   "source": [
    "music_genres = [\"rock\", \"pop\", \"country\"]\n",
    "music_genres.append(\"blues\")\n",
    "print(music_genres)"
   ]
  },
  {
   "cell_type": "code",
   "execution_count": 366,
   "metadata": {},
   "outputs": [
    {
     "name": "stdout",
     "output_type": "stream",
     "text": [
      "[4, 5]\n",
      "[3, 4, 5, 6, 7]\n",
      "[2, 3, 4, 5, 6, 7, 8, 9, 10, 11, 12]\n"
     ]
    }
   ],
   "source": [
    "def increments(start, end):\n",
    "    # Create the required list comprehension.\n",
    "    return [x+2 for x in range(start, end+1)]\n",
    "\n",
    "print(increments(2, 3)) # Should print [4, 5]\n",
    "print(increments(1, 5)) # Should print [3, 4, 5, 6, 7]\n",
    "print(increments(0, 10)) # Should print [2, 3, 4, 5, 6, 7, 8, 9, 10, 11, 12]"
   ]
  },
  {
   "cell_type": "code",
   "execution_count": 368,
   "metadata": {},
   "outputs": [
    {
     "name": "stdout",
     "output_type": "stream",
     "text": [
      "Javan Rhinoceros\n",
      "Vaquita\n",
      "Mountain Gorilla\n",
      "Tiger\n",
      "\n"
     ]
    }
   ],
   "source": [
    "def endangered_animals(animal_dict):\n",
    "    result = \"\"\n",
    "    # Complete the for loop to iterate through the key and value items \n",
    "    # in the dictionary.    \n",
    "    for name,value in  animal_dict.items():\n",
    "        # Use a string method to format the required string.\n",
    "        result += name+('\\n') \n",
    "    return result\n",
    "\n",
    "print(endangered_animals({\"Javan Rhinoceros\":60, \"Vaquita\":10, \"Mountain Gorilla\":200, \"Tiger\":500}))\n",
    "\n",
    "# Should print:\n",
    "# Javan Rhinoceros\n",
    "# Vaquita\n",
    "# Mountain Gorilla\n",
    "# Tiger"
   ]
  },
  {
   "cell_type": "code",
   "execution_count": 369,
   "metadata": {},
   "outputs": [
    {
     "name": "stdout",
     "output_type": "stream",
     "text": [
      "3\n",
      "3\n",
      "2\n"
     ]
    }
   ],
   "source": [
    "def check_guests(guest_list, guest):\n",
    "  file_counts = guest_list\n",
    "  for name, amount in file_counts.items():\n",
    "    if guest == name:\n",
    "       amount       \n",
    "       return amount # Return the value for the given key\n",
    "\n",
    "\n",
    "guest_list = { \"Adam\":3, \"Camila\":3, \"David\":5, \"Jamal\":3, \"Charley\":2, \"Titus\":1, \"Raj\":6, \"Noemi\":1, \"Sakira\":3, \"Chidi\":5}\n",
    "\n",
    "\n",
    "print(check_guests(guest_list, \"Adam\")) # Should print 3\n",
    "print(check_guests(guest_list, \"Sakira\")) # Should print 3\n",
    "print(check_guests(guest_list, \"Charley\")) # Should print 2"
   ]
  },
  {
   "cell_type": "code",
   "execution_count": 379,
   "metadata": {},
   "outputs": [
    {
     "ename": "TypeError",
     "evalue": "update expected at most 1 argument, got 2",
     "output_type": "error",
     "traceback": [
      "\u001b[1;31m---------------------------------------------------------------------------\u001b[0m",
      "\u001b[1;31mTypeError\u001b[0m                                 Traceback (most recent call last)",
      "Cell \u001b[1;32mIn[379], line 13\u001b[0m\n\u001b[0;32m      9\u001b[0m            x \u001b[38;5;241m+\u001b[39m\u001b[38;5;241m=\u001b[39m \u001b[38;5;241m1\u001b[39m\n\u001b[0;32m     10\u001b[0m   \u001b[38;5;28;01mreturn\u001b[39;00m dictionary\u001b[38;5;241m.\u001b[39mupdate(char, x) \n\u001b[1;32m---> 13\u001b[0m \u001b[38;5;28mprint\u001b[39m(\u001b[43mcount_numbers\u001b[49m\u001b[43m(\u001b[49m\u001b[38;5;124;43m\"\u001b[39;49m\u001b[38;5;124;43m1001000111101\u001b[39;49m\u001b[38;5;124;43m\"\u001b[39;49m\u001b[43m)\u001b[49m)\n\u001b[0;32m     14\u001b[0m \u001b[38;5;66;03m# Should be {'1': 7, '0': 6}\u001b[39;00m\n\u001b[0;32m     16\u001b[0m \u001b[38;5;28mprint\u001b[39m(count_numbers(\u001b[38;5;124m\"\u001b[39m\u001b[38;5;124mMath is fun! 2+2=4\u001b[39m\u001b[38;5;124m\"\u001b[39m))\n",
      "Cell \u001b[1;32mIn[379], line 10\u001b[0m, in \u001b[0;36mcount_numbers\u001b[1;34m(text)\u001b[0m\n\u001b[0;32m      8\u001b[0m       \u001b[38;5;28;01mif\u001b[39;00m char\u001b[38;5;241m.\u001b[39misdigit():\n\u001b[0;32m      9\u001b[0m          x \u001b[38;5;241m+\u001b[39m\u001b[38;5;241m=\u001b[39m \u001b[38;5;241m1\u001b[39m\n\u001b[1;32m---> 10\u001b[0m \u001b[38;5;28;01mreturn\u001b[39;00m \u001b[43mdictionary\u001b[49m\u001b[38;5;241;43m.\u001b[39;49m\u001b[43mupdate\u001b[49m\u001b[43m(\u001b[49m\u001b[43mchar\u001b[49m\u001b[43m,\u001b[49m\u001b[43m \u001b[49m\u001b[43mx\u001b[49m\u001b[43m)\u001b[49m\n",
      "\u001b[1;31mTypeError\u001b[0m: update expected at most 1 argument, got 2"
     ]
    }
   ],
   "source": [
    "def count_numbers(text):\n",
    "  # Initialize a new dictionary.\n",
    "  dictionary = {}\n",
    "  x = 0\n",
    "  for string in text:\n",
    "    for char in string:\n",
    "        # 如果字符是數字\n",
    "        if char.isdigit():\n",
    "           x += 1\n",
    "  return dictionary.update(char, x) \n",
    "\n",
    "\n",
    "print(count_numbers(\"1001000111101\"))\n",
    "# Should be {'1': 7, '0': 6}\n",
    "\n",
    "print(count_numbers(\"Math is fun! 2+2=4\"))\n",
    "# Should be {'2': 2, '4': 1}\n",
    "\n",
    "print(count_numbers(\"This is a sentence.\"))\n",
    "# Should be {}\n",
    "\n",
    "print(count_numbers(\"55 North Center Drive\"))\n",
    "# Should be {'5': 2}"
   ]
  },
  {
   "cell_type": "code",
   "execution_count": 390,
   "metadata": {},
   "outputs": [
    {
     "name": "stdout",
     "output_type": "stream",
     "text": [
      "{'webserver.local': {'lane'}, 'myworkstation.local': set(), 'mailserver.local': {'chris'}}\n",
      "\n",
      "\n",
      "webserver.local: lane\n",
      "mailserver.local: chris\n"
     ]
    }
   ],
   "source": [
    "def get_event_date(event):\n",
    "  return event.date\n",
    "\n",
    "def current_users(events):\n",
    "  events.sort(key=get_event_date)\n",
    "  machines = {}\n",
    "  for event in events:\n",
    "    if event.machine not in machines:\n",
    "      machines[event.machine] = set()\n",
    "    if event.type == \"login\":\n",
    "      machines[event.machine].add(event.user)\n",
    "    elif event.type == \"logout\":\n",
    "      machines[event.machine].remove(event.user)\n",
    "  return machines\n",
    "\n",
    "def generate_report(machines):\n",
    "  for machine, users in machines.items():\n",
    "    if len(users) > 0:\n",
    "      user_list = \", \".join(users)\n",
    "      print(\"{}: {}\".format(machine, user_list))\n",
    "\n",
    "class Event:\n",
    "  def __init__(self, event_date, event_type, machine_name, user):\n",
    "    self.date = event_date\n",
    "    self.type = event_type\n",
    "    self.machine = machine_name\n",
    "    self.user = user\n",
    "\n",
    "events = [\n",
    "  Event('2020-01-21 12:45:46', 'login', 'myworkstation.local', 'jordan'),\n",
    "  Event('2020-01-22 15:53:42', 'logout', 'webserver.local', 'jordan'),\n",
    "  Event('2020-01-21 18:53:21', 'login', 'webserver.local', 'lane'),\n",
    "  Event('2020-01-22 10:25:34', 'logout', 'myworkstation.local', 'jordan'),\n",
    "  Event('2020-01-21 08:20:01', 'login', 'webserver.local', 'jordan'),\n",
    "  Event('2020-01-23 11:24:35', 'login', 'mailserver.local', 'chris'),\n",
    "]\n",
    "\n",
    "users = current_users(events)\n",
    "print(users)\n",
    "print(\"\\n\")\n",
    "\n",
    "generate_report(users)"
   ]
  },
  {
   "cell_type": "code",
   "execution_count": 391,
   "metadata": {},
   "outputs": [
    {
     "name": "stdout",
     "output_type": "stream",
     "text": [
      "[1, 2, 4, 6, 7]\n"
     ]
    }
   ],
   "source": [
    "numbers = [ 4, 6, 2, 7, 1 ]\n",
    "numbers.sort()\n",
    "print(numbers)"
   ]
  },
  {
   "cell_type": "code",
   "execution_count": 393,
   "metadata": {},
   "outputs": [
    {
     "name": "stdout",
     "output_type": "stream",
     "text": [
      "\n",
      "Set with the use of Numbers: \n",
      "{1, 2, 3, 4, 5, 6}\n",
      "\n",
      "Set with the use of Mixed Values\n",
      "{1, 2, 'For', 4, 6, 'Geeks'}\n"
     ]
    }
   ],
   "source": [
    "# Creating a Set with  \n",
    "# a List of Numbers \n",
    "# (Having duplicate values) \n",
    "set1 = set([1, 2, 4, 4, 3, 3, 3, 6, 5]) \n",
    "print(\"\\nSet with the use of Numbers: \") \n",
    "print(set1) \n",
    "  \n",
    "# Creating a Set with  \n",
    "# a mixed type of values \n",
    "# (Having numbers and strings) \n",
    "set1 = set([1, 2, 'Geeks', 4, 'For', 6, 'Geeks']) \n",
    "print(\"\\nSet with the use of Mixed Values\") \n",
    "print(set1) "
   ]
  },
  {
   "cell_type": "code",
   "execution_count": 394,
   "metadata": {},
   "outputs": [
    {
     "name": "stdout",
     "output_type": "stream",
     "text": [
      "\n",
      "Converted String:\n",
      "Geeks for geeks\n",
      "\n",
      "Original String\n",
      "geeKs For geEkS\n"
     ]
    }
   ],
   "source": [
    "text = 'geeKs For geEkS'\n",
    "# convert the first character of a string to uppercase \n",
    "print(\"\\nConverted String:\") \n",
    "print(text.capitalize()) \n",
    "  \n",
    "# original string never changes \n",
    "print(\"\\nOriginal String\") \n",
    "print(text)\n"
   ]
  },
  {
   "cell_type": "code",
   "execution_count": null,
   "metadata": {},
   "outputs": [],
   "source": []
  }
 ],
 "metadata": {
  "colab": {
   "authorship_tag": "ABX9TyOlCFHi1tP/O16BRAJJ26aS",
   "include_colab_link": true,
   "provenance": []
  },
  "kernelspec": {
   "display_name": "Python 3 (ipykernel)",
   "language": "python",
   "name": "python3"
  },
  "language_info": {
   "codemirror_mode": {
    "name": "ipython",
    "version": 3
   },
   "file_extension": ".py",
   "mimetype": "text/x-python",
   "name": "python",
   "nbconvert_exporter": "python",
   "pygments_lexer": "ipython3",
   "version": "3.8.1"
  }
 },
 "nbformat": 4,
 "nbformat_minor": 4
}
